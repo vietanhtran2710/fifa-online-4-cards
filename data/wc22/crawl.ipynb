{
 "cells": [
  {
   "cell_type": "code",
   "execution_count": 2,
   "metadata": {},
   "outputs": [],
   "source": [
    "import requests\n",
    "from bs4 import BeautifulSoup\n",
    "\n",
    "from selenium import webdriver\n",
    "from selenium.webdriver.common.by import By\n",
    "from selenium.webdriver.support.ui import WebDriverWait\n",
    "from selenium.webdriver.support import expected_conditions as EC\n",
    "from selenium.common.exceptions import TimeoutException\n",
    "\n",
    "# URL = \"https://fo4s.com/?class%5B%5D=1575&league=&club=&nation=&team=&trait%5B%5D=&trait%5B%5D=&trait%5B%5D=&attr%5B%5D=&attr%5B%5D=&attr%5B%5D=&attr_value%5B0%5D%5Bmin%5D=&attr_value%5B0%5D%5Bmax%5D=&attr_value%5B1%5D%5Bmin%5D=&attr_value%5B1%5D%5Bmax%5D=&attr_value%5B2%5D%5Bmin%5D=&attr_value%5B2%5D%5Bmax%5D=&lfoot=&rfoot=&month=&day=&skill=&fame=&sort=ovr-desc&col1=sprintspeed&col2=stamina&col3=strength\"\n",
    "URL = \"https://fo4s.com/?class%5B%5D=1575&sort=ovr-desc&ovr_max=108\""
   ]
  },
  {
   "cell_type": "code",
   "execution_count": 37,
   "metadata": {},
   "outputs": [],
   "source": [
    "wait_for_element = 10  # wait timeout in seconds\n",
    "firefox = webdriver.Firefox()\n",
    "firefox.get(URL)\n",
    "\n",
    "try:\n",
    "    WebDriverWait(firefox, wait_for_element).until(\n",
    "        EC.presence_of_element_located((By.CLASS_NAME, \"player-name\")))\n",
    "    source = firefox.page_source\n",
    "    soup = BeautifulSoup(source, \"html.parser\")\n",
    "except TimeoutException as e:\n",
    "    print(\"Wait Timed out\")\n",
    "    print(e)"
   ]
  },
  {
   "cell_type": "code",
   "execution_count": 64,
   "metadata": {},
   "outputs": [],
   "source": [
    "a = soup.find_all(\"a\", {\"class\": \"player-name\"})"
   ]
  },
  {
   "cell_type": "code",
   "execution_count": null,
   "metadata": {},
   "outputs": [],
   "source": [
    "for item in a:\n",
    "    print(item[\"href\"])"
   ]
  },
  {
   "cell_type": "code",
   "execution_count": 70,
   "metadata": {},
   "outputs": [
    {
     "data": {
      "text/plain": [
       "'103'"
      ]
     },
     "execution_count": 70,
     "metadata": {},
     "output_type": "execute_result"
    }
   ],
   "source": [
    "list(list(soup.find_all(\"tr\"))[-1].children)[4].text"
   ]
  },
  {
   "cell_type": "code",
   "execution_count": 25,
   "metadata": {},
   "outputs": [
    {
     "name": "stdout",
     "output_type": "stream",
     "text": [
      "None\n"
     ]
    }
   ],
   "source": [
    "firefox = webdriver.Firefox()\n",
    "firefox.get(\"https://fo4s.com/player-wahbi-khazri-wc22-55135\")\n",
    "# WebDriverWait(firefox, 10).until(\n",
    "#         EC.presence_of_element_located((By.CLASS_NAME, \"btn btn-sm btn-dark dropdown-toggle p-0 rounded-0 fo-level lv-1\")))\n",
    "firefox.find_element(By.XPATH, \"//*[@id=\\\"player-info\\\"]/div[2]/div/div[2]/div[3]/button\").click()\n",
    "firefox.find_element(By.XPATH, \"//*[@id=\\\"player-info\\\"]/div[2]/div/div[2]/div[3]/ul/li[10]/a\").click()\n",
    "soup = BeautifulSoup(firefox.page_source, \"html.parser\")\n",
    "print(soup.prettify())\n",
    "# stat = soup.find(\"span\", {\"class\": \"fs-5 lv-point-55305 me-2 over100\"})\n",
    "# print(stat)"
   ]
  },
  {
   "cell_type": "code",
   "execution_count": null,
   "metadata": {},
   "outputs": [],
   "source": []
  }
 ],
 "metadata": {
  "kernelspec": {
   "display_name": "Python 3",
   "language": "python",
   "name": "python3"
  },
  "language_info": {
   "codemirror_mode": {
    "name": "ipython",
    "version": 3
   },
   "file_extension": ".py",
   "mimetype": "text/x-python",
   "name": "python",
   "nbconvert_exporter": "python",
   "pygments_lexer": "ipython3",
   "version": "3.10.6"
  },
  "orig_nbformat": 4,
  "vscode": {
   "interpreter": {
    "hash": "916dbcbb3f70747c44a77c7bcd40155683ae19c65e1c03b4aa3499c5328201f1"
   }
  }
 },
 "nbformat": 4,
 "nbformat_minor": 2
}
